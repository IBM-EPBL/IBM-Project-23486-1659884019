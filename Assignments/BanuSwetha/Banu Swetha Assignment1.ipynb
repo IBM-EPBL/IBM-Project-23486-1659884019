{
 "cells": [
  {
   "cell_type": "markdown",
   "id": "630c3192",
   "metadata": {},
   "source": [
    "**Basic Python Assignment**\n",
    "\n",
    "**1) Split this string**\n",
    "\n"
   ]
  },
  {
   "cell_type": "code",
   "execution_count": 3,
   "id": "cbe7d82f",
   "metadata": {},
   "outputs": [],
   "source": [
    "s = \"Hi there Shirin!\""
   ]
  },
  {
   "cell_type": "code",
   "execution_count": 4,
   "id": "19321a5a",
   "metadata": {},
   "outputs": [
    {
     "name": "stdout",
     "output_type": "stream",
     "text": [
      "['Hi', 'there', 'Shirin!']\n"
     ]
    }
   ],
   "source": [
    "s = \"Hi there Shirin!\"\n",
    "x=s.split()\n",
    "print(x)"
   ]
  },
  {
   "cell_type": "markdown",
   "id": "95eca70e",
   "metadata": {},
   "source": [
    "**2) Use .format() to print the following string.**\n",
    "\n",
    "**Output should be: The diameter of Earth is 12742 kilometers.**"
   ]
  },
  {
   "cell_type": "code",
   "execution_count": 5,
   "id": "be154b0a",
   "metadata": {},
   "outputs": [
    {
     "name": "stdout",
     "output_type": "stream",
     "text": [
      "The diameter of Earth is 12742 kilometers.\n"
     ]
    }
   ],
   "source": [
    "planet = \"Earth\"\n",
    "diameter = 12742\n",
    "str=(\"The diameter of {planet} is {diameter} kilometers.\")\n",
    "print((str.format(planet=\"Earth\",diameter=12742)))"
   ]
  },
  {
   "cell_type": "markdown",
   "id": "b3181004",
   "metadata": {},
   "source": [
    "**3) In this nest dictionary grab the word \"hello\"**"
   ]
  },
  {
   "cell_type": "code",
   "execution_count": 6,
   "id": "20fcf742",
   "metadata": {},
   "outputs": [],
   "source": [
    "d = {'k1':[1,2,3,{'tricky':['oh','man','inception',{'target':[1,2,3,'hello']}]}]}"
   ]
  },
  {
   "cell_type": "code",
   "execution_count": 7,
   "id": "fe0c012f",
   "metadata": {},
   "outputs": [
    {
     "data": {
      "text/plain": [
       "'hello'"
      ]
     },
     "execution_count": 7,
     "metadata": {},
     "output_type": "execute_result"
    }
   ],
   "source": [
    "d['k1'][-1]['tricky'][-1]['target'][-1]"
   ]
  },
  {
   "cell_type": "markdown",
   "id": "7aa6912b",
   "metadata": {},
   "source": [
    "**4) Numpy**"
   ]
  },
  {
   "cell_type": "code",
   "execution_count": 8,
   "id": "4b64a520",
   "metadata": {},
   "outputs": [],
   "source": [
    "import numpy as np"
   ]
  },
  {
   "cell_type": "markdown",
   "id": "ac00df60",
   "metadata": {},
   "source": [
    "**4.1) Create an array of 10 zeros?**"
   ]
  },
  {
   "cell_type": "markdown",
   "id": "112f10ed",
   "metadata": {},
   "source": [
    "**4.2) Create an array of 10 sevens?**"
   ]
  },
  {
   "cell_type": "code",
   "execution_count": 9,
   "id": "5c8da95e",
   "metadata": {},
   "outputs": [
    {
     "name": "stdout",
     "output_type": "stream",
     "text": [
      "[0. 0. 0. 0. 0. 0. 0. 0. 0. 0.]\n"
     ]
    }
   ],
   "source": [
    "arr=np.zeros(10)\n",
    "print(arr)"
   ]
  },
  {
   "cell_type": "code",
   "execution_count": 12,
   "id": "2cfc8a0c",
   "metadata": {},
   "outputs": [
    {
     "name": "stdout",
     "output_type": "stream",
     "text": [
      "[7. 7. 7. 7. 7. 7. 7. 7. 7. 7.]\n"
     ]
    }
   ],
   "source": [
    "arr=np.ones(10)*7\n",
    "print(arr)"
   ]
  },
  {
   "cell_type": "markdown",
   "id": "bb3a9a85",
   "metadata": {},
   "source": [
    "**5) Create an array of all the even integers from 20 to 35**"
   ]
  },
  {
   "cell_type": "code",
   "execution_count": 13,
   "id": "939bdfa4",
   "metadata": {},
   "outputs": [
    {
     "name": "stdout",
     "output_type": "stream",
     "text": [
      "[20 22 24 26 28 30 32 34]\n"
     ]
    }
   ],
   "source": [
    "arr=np.arange(20,36,2)\n",
    "print(arr)"
   ]
  },
  {
   "cell_type": "markdown",
   "id": "ee76dba6",
   "metadata": {},
   "source": [
    "**6) Create a 3x3 matrix with values ranging from 0 to 8**"
   ]
  },
  {
   "cell_type": "code",
   "execution_count": 14,
   "id": "4c6c05d9",
   "metadata": {},
   "outputs": [
    {
     "name": "stdout",
     "output_type": "stream",
     "text": [
      "[[0 1 2]\n",
      " [3 4 5]\n",
      " [6 7 8]]\n"
     ]
    }
   ],
   "source": [
    "arr=np.arange(0,9).reshape(3,3)\n",
    "print(arr)"
   ]
  },
  {
   "cell_type": "markdown",
   "id": "80b791c2",
   "metadata": {},
   "source": [
    "**7) Concatenate a and b**"
   ]
  },
  {
   "cell_type": "markdown",
   "id": "1d9c3c94",
   "metadata": {},
   "source": [
    "**a = np.array([1, 2, 3]), b = np.array([4, 5, 6])**"
   ]
  },
  {
   "cell_type": "code",
   "execution_count": 15,
   "id": "be084f89",
   "metadata": {},
   "outputs": [
    {
     "data": {
      "text/plain": [
       "array([1, 2, 3, 4, 5, 6])"
      ]
     },
     "execution_count": 15,
     "metadata": {},
     "output_type": "execute_result"
    }
   ],
   "source": [
    "a=np.array([1,2,3])\n",
    "b=np.array([4,5,6])\n",
    "np.concatenate((a,b),axis=None)"
   ]
  },
  {
   "cell_type": "markdown",
   "id": "0ff87ef0",
   "metadata": {},
   "source": [
    "**Pandas**"
   ]
  },
  {
   "cell_type": "markdown",
   "id": "88031cd4",
   "metadata": {},
   "source": [
    "**8) Create a dataframe with 3 rows and 2 columns**"
   ]
  },
  {
   "cell_type": "code",
   "execution_count": 16,
   "id": "bd52e163",
   "metadata": {},
   "outputs": [],
   "source": [
    "import pandas as pd"
   ]
  },
  {
   "cell_type": "code",
   "execution_count": 17,
   "id": "fca28955",
   "metadata": {},
   "outputs": [
    {
     "data": {
      "text/html": [
       "<div>\n",
       "<style scoped>\n",
       "    .dataframe tbody tr th:only-of-type {\n",
       "        vertical-align: middle;\n",
       "    }\n",
       "\n",
       "    .dataframe tbody tr th {\n",
       "        vertical-align: top;\n",
       "    }\n",
       "\n",
       "    .dataframe thead th {\n",
       "        text-align: right;\n",
       "    }\n",
       "</style>\n",
       "<table border=\"1\" class=\"dataframe\">\n",
       "  <thead>\n",
       "    <tr style=\"text-align: right;\">\n",
       "      <th></th>\n",
       "      <th>Name</th>\n",
       "      <th>RollNo</th>\n",
       "    </tr>\n",
       "  </thead>\n",
       "  <tbody>\n",
       "    <tr>\n",
       "      <th>0</th>\n",
       "      <td>Shirin</td>\n",
       "      <td>95071912049</td>\n",
       "    </tr>\n",
       "    <tr>\n",
       "      <th>1</th>\n",
       "      <td>Jayapradha</td>\n",
       "      <td>95071912037</td>\n",
       "    </tr>\n",
       "    <tr>\n",
       "      <th>2</th>\n",
       "      <td>Kiruthika</td>\n",
       "      <td>95071912045</td>\n",
       "    </tr>\n",
       "    <tr>\n",
       "      <th>3</th>\n",
       "      <td>Banu</td>\n",
       "      <td>95071912017</td>\n",
       "    </tr>\n",
       "  </tbody>\n",
       "</table>\n",
       "</div>"
      ],
      "text/plain": [
       "         Name       RollNo\n",
       "0      Shirin  95071912049\n",
       "1  Jayapradha  95071912037\n",
       "2   Kiruthika  95071912045\n",
       "3        Banu  95071912017"
      ]
     },
     "execution_count": 17,
     "metadata": {},
     "output_type": "execute_result"
    }
   ],
   "source": [
    "pd.DataFrame({\"Name\":['Shirin','Jayapradha','Kiruthika','Banu'],\"RollNo\":[95071912049,95071912037,95071912045,95071912017]})"
   ]
  },
  {
   "cell_type": "markdown",
   "id": "d60a5442",
   "metadata": {},
   "source": [
    "**9) Generate the series of dates from 1st Jan, 2023 to 10th Feb, 2023**"
   ]
  },
  {
   "cell_type": "code",
   "execution_count": 18,
   "id": "0fd2b2b7",
   "metadata": {},
   "outputs": [
    {
     "data": {
      "text/plain": [
       "DatetimeIndex(['2023-01-01', '2023-01-02', '2023-01-03', '2023-01-04',\n",
       "               '2023-01-05', '2023-01-06', '2023-01-07', '2023-01-08',\n",
       "               '2023-01-09', '2023-01-10', '2023-01-11', '2023-01-12',\n",
       "               '2023-01-13', '2023-01-14', '2023-01-15', '2023-01-16',\n",
       "               '2023-01-17', '2023-01-18', '2023-01-19', '2023-01-20',\n",
       "               '2023-01-21', '2023-01-22', '2023-01-23', '2023-01-24',\n",
       "               '2023-01-25', '2023-01-26', '2023-01-27', '2023-01-28',\n",
       "               '2023-01-29', '2023-01-30', '2023-01-31', '2023-02-01',\n",
       "               '2023-02-02', '2023-02-03', '2023-02-04', '2023-02-05',\n",
       "               '2023-02-06', '2023-02-07', '2023-02-08', '2023-02-09',\n",
       "               '2023-02-10'],\n",
       "              dtype='datetime64[ns]', freq='D')"
      ]
     },
     "execution_count": 18,
     "metadata": {},
     "output_type": "execute_result"
    }
   ],
   "source": [
    "pd.date_range(start=\"2023-01-01\", end=\"2023-02-10\")"
   ]
  },
  {
   "cell_type": "markdown",
   "id": "2ecb6e90",
   "metadata": {},
   "source": [
    "**10) Create 2D list to DataFrame**"
   ]
  },
  {
   "cell_type": "code",
   "execution_count": 19,
   "id": "331caf33",
   "metadata": {},
   "outputs": [],
   "source": [
    "lists = [[1, 'aaa', 22], [2, 'bbb', 25], [3, 'ccc', 24]]"
   ]
  },
  {
   "cell_type": "code",
   "execution_count": 20,
   "id": "2081b3f9",
   "metadata": {},
   "outputs": [
    {
     "data": {
      "text/html": [
       "<div>\n",
       "<style scoped>\n",
       "    .dataframe tbody tr th:only-of-type {\n",
       "        vertical-align: middle;\n",
       "    }\n",
       "\n",
       "    .dataframe tbody tr th {\n",
       "        vertical-align: top;\n",
       "    }\n",
       "\n",
       "    .dataframe thead th {\n",
       "        text-align: right;\n",
       "    }\n",
       "</style>\n",
       "<table border=\"1\" class=\"dataframe\">\n",
       "  <thead>\n",
       "    <tr style=\"text-align: right;\">\n",
       "      <th></th>\n",
       "      <th>0</th>\n",
       "      <th>1</th>\n",
       "      <th>2</th>\n",
       "    </tr>\n",
       "  </thead>\n",
       "  <tbody>\n",
       "    <tr>\n",
       "      <th>0</th>\n",
       "      <td>1</td>\n",
       "      <td>aaa</td>\n",
       "      <td>22</td>\n",
       "    </tr>\n",
       "    <tr>\n",
       "      <th>1</th>\n",
       "      <td>2</td>\n",
       "      <td>bbb</td>\n",
       "      <td>25</td>\n",
       "    </tr>\n",
       "    <tr>\n",
       "      <th>2</th>\n",
       "      <td>3</td>\n",
       "      <td>ccc</td>\n",
       "      <td>24</td>\n",
       "    </tr>\n",
       "  </tbody>\n",
       "</table>\n",
       "</div>"
      ],
      "text/plain": [
       "   0    1   2\n",
       "0  1  aaa  22\n",
       "1  2  bbb  25\n",
       "2  3  ccc  24"
      ]
     },
     "execution_count": 20,
     "metadata": {},
     "output_type": "execute_result"
    }
   ],
   "source": [
    "pd.DataFrame(lists)"
   ]
  },
  {
   "cell_type": "code",
   "execution_count": null,
   "id": "7e129a8e",
   "metadata": {},
   "outputs": [],
   "source": []
  }
 ],
 "metadata": {
  "kernelspec": {
   "display_name": "Python 3",
   "language": "python",
   "name": "python3"
  },
  "language_info": {
   "codemirror_mode": {
    "name": "ipython",
    "version": 3
   },
   "file_extension": ".py",
   "mimetype": "text/x-python",
   "name": "python",
   "nbconvert_exporter": "python",
   "pygments_lexer": "ipython3",
   "version": "3.8.8"
  }
 },
 "nbformat": 4,
 "nbformat_minor": 5
}
